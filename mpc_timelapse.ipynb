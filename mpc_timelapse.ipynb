{
 "cells": [
  {
   "cell_type": "markdown",
   "metadata": {},
   "source": [
    "# Creating Satellite Image Timelapses\n",
    "\n",
    "For this demo, I will create a timelapse of satellite images using [Microsoft Planetary Computer](https://planetarycomputer.microsoft.com/). \n",
    "\n",
    "This code is based of the work from __Milan Janosov__. Check his [article](https://towardsdatascience.com/creating-satellite-image-timelapses-2b479f86ff52) out on this topic where he uses the new ESA Sentinel Hub API to make some really cool timelapses.\n",
    "\n"
   ]
  },
  {
   "cell_type": "markdown",
   "metadata": {},
   "source": [
    "# Getting Started\n",
    "\n",
    "\n",
    "\n",
    "MPC hosts datasets using the [STAC](https://stacspec.org/en) (SpatioTemporal Asset Catalog) specification.\n",
    "\n",
    " To interact with these datasets, we need to install the [pystac-client](https://pypi.org/project/pystac-client/) and [Planetary Computer SDK](https://pypi.org/project/planetary-computer/) via __pip__"
   ]
  },
  {
   "cell_type": "code",
   "execution_count": 1,
   "metadata": {},
   "outputs": [
    {
     "name": "stderr",
     "output_type": "stream",
     "text": [
      "c:\\Users\\noah\\AppData\\Local\\Programs\\Python\\Python312\\python.exe: No module named pip\n"
     ]
    }
   ],
   "source": [
    "import sys\n",
    "!{sys.executable} -m pip install --quiet pystac-client planetary-computer --upgrade "
   ]
  },
  {
   "cell_type": "markdown",
   "metadata": {},
   "source": [
    "Next, we need to create a `pystac_client.Client` to access the data we want to pull from the MPC\n",
    "\n",
    "To do this (and other downstream operations), I can use some code from the [MPC Docs](https://planetarycomputer.microsoft.com/docs/quickstarts/reading-stac/)\n"
   ]
  },
  {
   "cell_type": "code",
   "execution_count": 2,
   "metadata": {},
   "outputs": [],
   "source": [
    "import pystac_client\n",
    "import planetary_computer\n",
    "\n",
    "catalog = pystac_client.Client.open(\n",
    "    \"https://planetarycomputer.microsoft.com/api/stac/v1\",\n",
    "    modifier=planetary_computer.sign_inplace,\n",
    ")"
   ]
  },
  {
   "cell_type": "markdown",
   "metadata": {},
   "source": [
    "# Searching\n",
    "\n",
    "Now we can use the STAC API to search for our assets that meet a certian criteria. The criterion in this case is a area we want to anaylze along with a date range.\n",
    "\n",
    "Here, I will look at __Seattle, Washington__ during Summer 2023. \n"
   ]
  },
  {
   "cell_type": "code",
   "execution_count": 4,
   "metadata": {},
   "outputs": [
    {
     "data": {
      "text/plain": [
       "39"
      ]
     },
     "execution_count": 4,
     "metadata": {},
     "output_type": "execute_result"
    }
   ],
   "source": [
    "\n",
    "time_range = \"2023-06-21/2023-09-23\" #date range\n",
    "bbox = [-122.2751, 47.5469, -121.9613, 47.7458] #area\n",
    "\n",
    "search = catalog.search(collections=[\"sentinel-2-l2a\"], bbox=bbox, datetime=time_range)\n",
    "items = search.get_all_items()\n",
    "len(items)"
   ]
  },
  {
   "cell_type": "markdown",
   "metadata": {},
   "source": [
    "39 `items` matched our search\n",
    "\n",
    "`items` has a datatype of `'pystac.item_collection.ItemCollection'` "
   ]
  },
  {
   "cell_type": "code",
   "execution_count": 5,
   "metadata": {},
   "outputs": [
    {
     "name": "stdout",
     "output_type": "stream",
     "text": [
      "<class 'pystac.item_collection.ItemCollection'>\n"
     ]
    }
   ],
   "source": [
    "print(type(items)) "
   ]
  },
  {
   "cell_type": "markdown",
   "metadata": {},
   "source": [
    "All that means is that this data type can be treated as an _Item Collection_.\n",
    "\n",
    "_Item Collections_ hold the info we need to see some pictures!\n",
    "\n",
    "Lets select an item and plot it using [IPython](https://ipython.readthedocs.io/en/stable/index.html)"
   ]
  },
  {
   "cell_type": "code",
   "execution_count": 15,
   "metadata": {},
   "outputs": [
    {
     "name": "stdout",
     "output_type": "stream",
     "text": [
      "<Item id=S2B_MSIL2A_20230815T185919_R013_T10TET_20230816T001753>\n"
     ]
    }
   ],
   "source": [
    "selected_item = min(items, key=lambda item: item.properties[\"eo:cloud_cover\"])\n",
    "print(selected_item)\n"
   ]
  },
  {
   "cell_type": "code",
   "execution_count": 16,
   "metadata": {},
   "outputs": [
    {
     "data": {
      "text/html": [
       "<img src=\"https://planetarycomputer.microsoft.com/api/data/v1/item/preview.png?collection=sentinel-2-l2a&item=S2B_MSIL2A_20230815T185919_R013_T10TET_20230816T001753&assets=visual&asset_bidx=visual%7C1%2C2%2C3&nodata=0&format=png\" width=\"500\"/>"
      ],
      "text/plain": [
       "<IPython.core.display.Image object>"
      ]
     },
     "execution_count": 16,
     "metadata": {},
     "output_type": "execute_result"
    }
   ],
   "source": [
    "from IPython.display import Image\n",
    "\n",
    "Image(url=selected_item.assets[\"rendered_preview\"].href, width=500)"
   ]
  },
  {
   "cell_type": "markdown",
   "metadata": {},
   "source": [
    "# Downloads\n",
    "\n",
    "Now that we have our _item collection_, we need to __download__ imagery data to our local machine. \n",
    "\n",
    "Milan used bands 2 (red), 3 (green) , and 4 (blue) for his analysis.\n",
    "\n",
    "To keep my analysis simpler, we will just extract the rendered preview. This _should_ be sufficient for the purposes of the timelapse.\n"
   ]
  },
  {
   "cell_type": "code",
   "execution_count": 17,
   "metadata": {},
   "outputs": [],
   "source": [
    "#Here I will collect the hrefs of the rendered previews into a list\n",
    "\n",
    "href_list = []\n",
    "for item in items:\n",
    "  href_list.append(item.assets[\"rendered_preview\"].href)"
   ]
  },
  {
   "cell_type": "code",
   "execution_count": 18,
   "metadata": {},
   "outputs": [
    {
     "data": {
      "text/plain": [
       "39"
      ]
     },
     "execution_count": 18,
     "metadata": {},
     "output_type": "execute_result"
    }
   ],
   "source": [
    "len(href_list) #we have 11 file for our timelapse"
   ]
  },
  {
   "cell_type": "markdown",
   "metadata": {},
   "source": [
    "Then using the pillow [Image Module]((https://pillow.readthedocs.io/en/stable/reference/Image.html)), I will save the images to my local machine"
   ]
  },
  {
   "cell_type": "code",
   "execution_count": 19,
   "metadata": {},
   "outputs": [
    {
     "name": "stderr",
     "output_type": "stream",
     "text": [
      "c:\\Users\\noah\\AppData\\Local\\Programs\\Python\\Python312\\python.exe: No module named pip\n"
     ]
    }
   ],
   "source": [
    "import sys\n",
    "!{sys.executable} -m pip install --quiet pillow"
   ]
  },
  {
   "cell_type": "code",
   "execution_count": 20,
   "metadata": {},
   "outputs": [],
   "source": [
    "import os\n",
    "foldout = 'pictures'\n",
    "if not os.path.exists(foldout):\n",
    "    os.makedirs(foldout)"
   ]
  },
  {
   "cell_type": "code",
   "execution_count": 21,
   "metadata": {},
   "outputs": [],
   "source": [
    "import requests\n",
    "from PIL import Image\n",
    "from io import BytesIO\n",
    "for idx,href in enumerate(href_list):\n",
    "    resp = requests.get(href)\n",
    "    resp.raise_for_status()\n",
    "    sio = BytesIO(resp.content)  # Create an in-memory stream of the content\n",
    "    img = Image.open(sio)  # And load it\n",
    "    img.save(f\"pictures/picture_{idx}.png\", \"PNG\")"
   ]
  },
  {
   "cell_type": "markdown",
   "metadata": {},
   "source": [
    "Using some help from Milan's code again, lets assemble the frames into an animation"
   ]
  },
  {
   "cell_type": "code",
   "execution_count": 22,
   "metadata": {},
   "outputs": [],
   "source": [
    "png_files = [f for f in os.listdir(foldout) if f.endswith('.png')]\n",
    "\n",
    "png_files.sort()\n",
    "\n",
    "frames = []\n",
    "\n",
    "for png_file in png_files:\n",
    "    file_path = os.path.join(foldout, png_file)\n",
    "    img = Image.open(file_path)\n",
    "    frames.append(img)\n",
    "\n",
    "\n",
    "output_gif_path = 'footage_complete.gif'\n",
    "\n",
    "frames[0].save(\n",
    "    output_gif_path,\n",
    "    save_all=True,\n",
    "    append_images=frames[1:],\n",
    "    duration=200,  # Set the duration between frames in milliseconds\n",
    "    loop=0  # Set loop to 0 for an infinite loop, or any positive integer for a finite loop\n",
    ")"
   ]
  },
  {
   "cell_type": "markdown",
   "metadata": {},
   "source": [
    "And see our work!\n"
   ]
  },
  {
   "cell_type": "markdown",
   "metadata": {},
   "source": [
    "<img src='footage_complete.gif' width=\"750\" align=\"center\">"
   ]
  },
  {
   "cell_type": "markdown",
   "metadata": {},
   "source": [
    "# Conclusion\n",
    "\n",
    "This was a blast to work on. Special thanks to:\n",
    "\n",
    "1. Milan for inspiring me on this.\n",
    "1. The MPC team for hosting some pretty cool data\n",
    "\n",
    "Im still pretty new to the geospatial world, but am finding myself falling in love with it. Excited to see what the future holds!\n",
    "\n",
    "\n",
    " -Noah"
   ]
  }
 ],
 "metadata": {
  "kernelspec": {
   "display_name": "Python 3",
   "language": "python",
   "name": "python3"
  },
  "language_info": {
   "codemirror_mode": {
    "name": "ipython",
    "version": 3
   },
   "file_extension": ".py",
   "mimetype": "text/x-python",
   "name": "python",
   "nbconvert_exporter": "python",
   "pygments_lexer": "ipython3",
   "version": "3.12.4"
  }
 },
 "nbformat": 4,
 "nbformat_minor": 2
}
