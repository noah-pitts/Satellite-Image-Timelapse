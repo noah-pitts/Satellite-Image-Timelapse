{
 "cells": [
  {
   "cell_type": "markdown",
   "metadata": {},
   "source": [
    "Creating Satellite Image Timelapses\n",
    "\n",
    "For this demo, I will create a timelapse of satellite images using [Microsoft Planetary Computer](https://planetarycomputer.microsoft.com/). \n",
    "\n",
    "This code is based of the work from __Milan Janosov__. Check his [article](https://towardsdatascience.com/creating-satellite-image-timelapses-2b479f86ff52) out on this topic where he uses the new ESA Sentinel Hub API.\n",
    "\n"
   ]
  },
  {
   "cell_type": "markdown",
   "metadata": {},
   "source": [
    "Getting Started\n",
    "\n",
    "\n",
    "\n",
    "MPC hosts datasets using the [STAC](https://stacspec.org/en) (SpatioTemporal Asset Catalog) specification.\n",
    "\n",
    " To interact with these datasets, we need to install the [pystac-client](https://pypi.org/project/pystac-client/) and [Planetary Computer SDK](https://pypi.org/project/planetary-computer/) via __pip__"
   ]
  },
  {
   "cell_type": "code",
   "execution_count": 6,
   "metadata": {},
   "outputs": [],
   "source": [
    "import sys\n",
    "!{sys.executable} -m pip install --quiet pystac-client planetary-computer --upgrade "
   ]
  },
  {
   "cell_type": "markdown",
   "metadata": {},
   "source": [
    "Next, we need to create a `pystac_client.Client` to access the data we want to pull from the MPC"
   ]
  },
  {
   "cell_type": "code",
   "execution_count": 7,
   "metadata": {},
   "outputs": [],
   "source": [
    "import pystac_client\n",
    "import planetary_computer\n",
    "\n",
    "catalog = pystac_client.Client.open(\n",
    "    \"https://planetarycomputer.microsoft.com/api/stac/v1\",\n",
    "    modifier=planetary_computer.sign_inplace,\n",
    ")"
   ]
  },
  {
   "cell_type": "markdown",
   "metadata": {},
   "source": [
    "Searching\n",
    "\n",
    "Now we can use the STAC APT to search for our assets that meet a certian criteria. This criteria could be certain dates and the area we want to anaylze.\n",
    "\n",
    "Here, I will look at Cueno, a city in Piedmont, Italy during May 2023.\n",
    "\n",
    "F1 Fans: This city is just north of Monte Carlo "
   ]
  },
  {
   "cell_type": "code",
   "execution_count": 9,
   "metadata": {},
   "outputs": [
    {
     "data": {
      "text/plain": [
       "28"
      ]
     },
     "execution_count": 9,
     "metadata": {},
     "output_type": "execute_result"
    }
   ],
   "source": [
    "\n",
    "time_range = \"2023-05-01/2023-05-31\"\n",
    "bbox = [6.368637,43.492783,7.673950,44.200913]\n",
    "\n",
    "search = catalog.search(collections=[\"landsat-c2-l2\"], bbox=bbox, datetime=time_range)\n",
    "items = search.get_all_items()\n",
    "len(items)"
   ]
  }
 ],
 "metadata": {
  "kernelspec": {
   "display_name": "Python 3",
   "language": "python",
   "name": "python3"
  },
  "language_info": {
   "codemirror_mode": {
    "name": "ipython",
    "version": 3
   },
   "file_extension": ".py",
   "mimetype": "text/x-python",
   "name": "python",
   "nbconvert_exporter": "python",
   "pygments_lexer": "ipython3",
   "version": "3.12.3"
  }
 },
 "nbformat": 4,
 "nbformat_minor": 2
}
